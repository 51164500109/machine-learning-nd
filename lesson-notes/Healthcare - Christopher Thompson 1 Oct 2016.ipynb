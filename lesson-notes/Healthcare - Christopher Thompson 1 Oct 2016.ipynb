{
 "cells": [
  {
   "cell_type": "markdown",
   "metadata": {},
   "source": [
    "### Christopher Thompson: Applications of ML in Healthcare and Pharma\n",
    "\n",
    "Microbiologist at Imperial (Postdoc)\n",
    "\n",
    "1. Diagnosis DTs\n",
    "2. Imaging analysis MRI X ray Pathology 40 images per needle biopsy hours per processs\n",
    "3. Brug Discovery\n",
    "    - nwe uses for existing drugs\n",
    "    - combine 4 drgus into single therapy -> pill or injection -> 5 concentrations\n",
    "    - fastest route? HUH HOW\n",
    "    - off-target drug actions (IBS tuberculosis antibiotics) -> more DA, hmm\n",
    "4. Patient surveillance\n",
    "5. Personalised medicine or therapy\n",
    "    - data sources\n",
    "        - electronic health records: structured and unstructured (clinician notes), BoW no cancer vs cancer\n",
    "        - epidem behaviour\n",
    "    - dna (cookbook) -> rna (recipe) -> protein (meal)\n",
    "    - rna as a market of prostate cancer mestasisis (moving)\n",
    "        - diagnosis only by biopsy\n",
    "        - survival rates vary by local vs distance\n",
    "        - gen model predict P(metastasis), log loss -> penalises wrong confident preds a lot\n",
    "            - vs current can only test if cancer has mestatisised\n",
    "        - used anova, pca\n",
    "            - F stat (take with max f stat) -> filter for genes that are diff in metastasis vs normal\n",
    "        - NOTE dataset is live: what is classified as local might go to metastetic eventually. but no otehr way back.\n",
    "        - features RNA 20k + 20 clinical features, 500 patients.\n",
    "        - Gleason score :) 2 - 10 :( -> 0.3\n",
    "        - RNA -> 0.7\n",
    "        - Filter down to 20 genes\n",
    "        -> Probablity in the next X years. makes sens.\n",
    "\n",
    "\n",
    "23me? - > what's that angelo\n",
    "\n",
    "gaddaga? oh so if you see they have BLAH they won't hire them.\n",
    "- esp if attach location and ethnicity to data\n",
    "$39bn per year US health institute\n",
    "\n",
    "OCR get capture?\n",
    "\n",
    "H l 7\n",
    "Electronic health records: there are 10 competing formats.\n",
    "\n",
    "Nature vs nurture -> DNA modification, molecular tagging\n",
    "\n",
    "Alzheimers depends on Epigenetics likely.\n",
    "Combo of epigenetic and genetic\n",
    "\n",
    "\n",
    "Climate patterns\n"
   ]
  },
  {
   "cell_type": "markdown",
   "metadata": {},
   "source": [
    "Baxter\n",
    "Myo\n",
    "Thync\n",
    "\n"
   ]
  }
 ],
 "metadata": {
  "kernelspec": {
   "display_name": "Python 3",
   "language": "python",
   "name": "python3"
  },
  "language_info": {
   "codemirror_mode": {
    "name": "ipython",
    "version": 3
   },
   "file_extension": ".py",
   "mimetype": "text/x-python",
   "name": "python",
   "nbconvert_exporter": "python",
   "pygments_lexer": "ipython3",
   "version": "3.5.1"
  }
 },
 "nbformat": 4,
 "nbformat_minor": 0
}
