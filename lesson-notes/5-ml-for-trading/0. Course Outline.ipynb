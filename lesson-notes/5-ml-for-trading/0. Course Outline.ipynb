{
 "cells": [
  {
   "cell_type": "markdown",
   "metadata": {},
   "source": [
    "# Machine Learning for Trading: Course Outline\n",
    "\n",
    "The course is split into three parts:\n",
    "1. Manipulating Financial Data in Python\n",
    "2. Computational Investing\n",
    "    * Algorithms, methods and models\n",
    "3. Learning Algorithms for Trading\n",
    "    * Qlearning and random forests\n",
    "   \n",
    "End of course aim: Able to join a trading system development team\n",
    "\n",
    "Textbooks\n",
    "1. Python for Finance (O' Reilly)\n",
    "2. What Hedge Funds Really Do (Tucker Balch + author)\n",
    "3. Machine Learning (Mitchell)\n",
    "\n"
   ]
  }
 ],
 "metadata": {
  "kernelspec": {
   "display_name": "Python 3",
   "language": "python",
   "name": "python3"
  },
  "language_info": {
   "codemirror_mode": {
    "name": "ipython",
    "version": 3
   },
   "file_extension": ".py",
   "mimetype": "text/x-python",
   "name": "python",
   "nbconvert_exporter": "python",
   "pygments_lexer": "ipython3",
   "version": "3.5.1"
  }
 },
 "nbformat": 4,
 "nbformat_minor": 0
}
