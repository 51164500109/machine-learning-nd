{
 "cells": [
  {
   "cell_type": "markdown",
   "metadata": {},
   "source": [
    "# 03-01 \n",
    "\n",
    "### Predictive Process\n",
    "\n",
    "Process of predicting:\n",
    "1. Select predictive factors x1, x2, x3 (e.g. Bollinger Bands, P/E ratios)\n",
    "2. Select Y (e.g. Change in price, market relative change in price, future price.)\n",
    "3. Select Time period, stock universe\n",
    "4. Train model (e.g. KNN, Linear Regression, Decision Trees)\n",
    "5. Predict\n",
    "\n",
    "(Backtest)\n",
    "\n",
    "### An Example\n",
    "**Predictive factors:**\n",
    "- Average Run-up (%)\n",
    "- Beta\n",
    "- EMA (%)\n",
    "- Financial Stress Index\n",
    "- PEG Ratio\n",
    "- SMA (%)\n",
    "- SMA Momentum\n",
    "- SP500 SMA Change (%)\n",
    "- SP500 Volatility\n",
    "- Volatility\n",
    "\n",
    "Used genetic algorithm to discover these predictive factors.\n",
    "\n",
    "**E.g. query**\n",
    "Forecast: 1 month\n",
    "Lookback: 3 months\n",
    "\n",
    "**Outputs:**\n",
    "Confidence Intervals (Star rating): When use KNN, how diverse are the Ys that come back (standard deviation)? Greater STD -> Less confident.\n",
    "\n",
    "### Problems with regression\n",
    "Regression strategy in the video didn't beat the SP500 spectacularly.\n",
    "- Noisy and uncertain -> Value accumulated over many trades.\n",
    "- Challenging to estimate confidence (SD of nearest neighbours is an okayish measure)\n",
    "- Holding time, allocation (Unclear how long you should hold a position or how you should allocate to position.) -> Can address using reinforcement learning.\n",
    "\n",
    "### Problem in this class\n",
    "Train model on 2009 data. \n",
    "Test it over years 2010-2011.\n"
   ]
  },
  {
   "cell_type": "markdown",
   "metadata": {},
   "source": [
    "# 03-02\n",
    "\n",
    "Parametric models:\n",
    "Non-parametric (Instance-based) models: KNN or kernel regression (weighted by distance)\n",
    "\n",
    "### KNN\n",
    "- Horizontal lines i n edges -> can't extropolate.\n",
    "- Decrease K: more likely to overfit.\n",
    "\n",
    "### Polynomial model of degree d\n",
    "- More likely to overfit as d increases.\n"
   ]
  }
 ],
 "metadata": {
  "kernelspec": {
   "display_name": "Python 3",
   "language": "python",
   "name": "python3"
  },
  "language_info": {
   "codemirror_mode": {
    "name": "ipython",
    "version": 3
   },
   "file_extension": ".py",
   "mimetype": "text/x-python",
   "name": "python",
   "nbconvert_exporter": "python",
   "pygments_lexer": "ipython3",
   "version": "3.5.1"
  }
 },
 "nbformat": 4,
 "nbformat_minor": 0
}
