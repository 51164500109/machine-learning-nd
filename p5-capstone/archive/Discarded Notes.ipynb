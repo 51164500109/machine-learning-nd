{
 "cells": [
  {
   "cell_type": "markdown",
   "metadata": {},
   "source": [
    "(1) Engineer dataset semi from scratch \n",
    "\n",
    "New questions:\n",
    "(1) Interesting: How will you predict multiple things. Went to http://scikit-learn.org/stable/modules/multiclass.html."
   ]
  },
  {
   "cell_type": "markdown",
   "metadata": {},
   "source": [
    "# Discarded Notes\n",
    "\n",
    "The conversations online talk about how rubbish algorithms like KNN are when KNN was the example using in the ML for Trading class.\n",
    "\n",
    "'Unless you model the **Implied Volatility** of the stock, you cannot predict price. The stock price is function a various factors which are mostly known except the Implied volatility. You can model the implied vol using algorithms like **SVM** but not KNN.'[Source: Anoop Vasant Kumar](https://www.quora.com/How-effective-is-the-k-Nearest-Neighbor-algorithm-for-stock-price-prediction).\n",
    "\n",
    "THe class also discusses **Reinforcement Learning**, but since your actions don't change the environment...I guess you can model your rewards to be the amount of profit you make. And then it would kind of make sense.\n",
    "\n",
    "\n",
    "'The only machine-learning algorithms that I have found to actually work in trading are linear algorithms such as various incarnations of regressions. Everything else tend to overfit to noise. Remember, unlike in fields such as image or speech recognition, financial time series has very low signal-to-noise ratio, and more problematically, probability distributions in finance are often non-stationary. You can read more about this subject in my book Quantitative Trading.' [Source: Ernest Chan, author of Algorithmic Trading](https://www.quora.com/How-can-I-get-started-applying-machine-learning-to-algorithmic-trading).\n",
    "\n",
    "- Logistic Regression\n",
    "- Random Forests (DTs)\n",
    "\n",
    "\n",
    "logistic regression (fastest) and random forests (most accurate usually). There are others, such as support vector machines, boosted decision trees,\n",
    "3-layer neural networks, but these don't offer as good accuracy as random forests (and often slower as \n",
    "well) or as much speed as logistic regression. In my opinion, the best choice would simply be"
   ]
  },
  {
   "cell_type": "markdown",
   "metadata": {},
   "source": [
    "#### CUT: 2.1.2 X-day running averages (Cut down the number of features but try to provide the same information)\n"
   ]
  },
  {
   "cell_type": "markdown",
   "metadata": {},
   "source": [
    "#### Interesting but not important:\n",
    "\n",
    "For example, in May 2010 the US S&P 500 dropped 5-6% in value within minutes. This was suspected to be because of bots. This was called the Flash Crash. [People have theorised](https://en.wikipedia.org/wiki/2010_Flash_Crash#Early_theories) that the Flash Crash was exacerbated by high-frequency traders, although this seems to have been disproved. \n"
   ]
  },
  {
   "cell_type": "markdown",
   "metadata": {},
   "source": [
    "### Benchmark for Trading Performance\n",
    "\n",
    "This benchmark is for trade recommendations.\n",
    "\n",
    "The standard benchmark in trading is buying and holding an index fund, which in this case could be the FTSE100, the FTSE250 or the FTSE500.\n",
    "\n",
    "I will use **buying and holding the FTSE100 as the benchmark** in this project. The FTSE100 (the Financial Times Stock Exchange 100 Index) is a share index of the 100 companies listed on the London Stock Exchange with the highest market capitalisation (market cap). Market cap = number of shares x price of each share. ([Source: Wikipedia](https://en.wikipedia.org/wiki/FTSE_100_Index)).\n",
    "\n",
    "**Specific methodology** Specifically, I will compare the performance of the trade recommendation (percentage gain of e.g. buying on the open (opening prirce) the first day and selling on the close of the day the model recommends to sell) to the percentage gain obtained by buying the FTSE100 on the open of the first day after the training date range and selling on the day the model recommends to sell. This **normalises the amount of capital available and the timeframe** in which the user has access to that capital."
   ]
  },
  {
   "cell_type": "markdown",
   "metadata": {},
   "source": [
    "Wrong?\n",
    "\n",
    "```I expect the solution to correlate with other stocks in the same industry to some extent. Competitors should correlate with each other when there is industry-positive or industry-negative information, and not correlate positively with each other when there is firm-specific information.\n",
    "\n",
    "I expect it to correlate with but be more volatile than the FTSE indices.```"
   ]
  }
 ],
 "metadata": {
  "kernelspec": {
   "display_name": "Python 3",
   "language": "python",
   "name": "python3"
  },
  "language_info": {
   "codemirror_mode": {
    "name": "ipython",
    "version": 3
   },
   "file_extension": ".py",
   "mimetype": "text/x-python",
   "name": "python",
   "nbconvert_exporter": "python",
   "pygments_lexer": "ipython3",
   "version": "3.5.1"
  }
 },
 "nbformat": 4,
 "nbformat_minor": 0
}
