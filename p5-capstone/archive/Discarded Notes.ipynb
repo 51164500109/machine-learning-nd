{
 "cells": [
  {
   "cell_type": "markdown",
   "metadata": {},
   "source": [
    "# Discarded Notes\n",
    "\n",
    "The conversations online talk about how rubbish algorithms like KNN are when KNN was the example using in the ML for Trading class.\n",
    "\n",
    "'Unless you model the **Implied Volatility** of the stock, you cannot predict price. The stock price is function a various factors which are mostly known except the Implied volatility. You can model the implied vol using algorithms like **SVM** but not KNN.'[Source: Anoop Vasant Kumar](https://www.quora.com/How-effective-is-the-k-Nearest-Neighbor-algorithm-for-stock-price-prediction).\n",
    "\n",
    "THe class also discusses **Reinforcement Learning**, but since your actions don't change the environment...I guess you can model your rewards to be the amount of profit you make. And then it would kind of make sense.\n",
    "\n",
    "\n",
    "'The only machine-learning algorithms that I have found to actually work in trading are linear algorithms such as various incarnations of regressions. Everything else tend to overfit to noise. Remember, unlike in fields such as image or speech recognition, financial time series has very low signal-to-noise ratio, and more problematically, probability distributions in finance are often non-stationary. You can read more about this subject in my book Quantitative Trading.' [Source: Ernest Chan, author of Algorithmic Trading](https://www.quora.com/How-can-I-get-started-applying-machine-learning-to-algorithmic-trading).\n",
    "\n",
    "- Logistic Regression\n",
    "- Random Forests (DTs)\n",
    "\n",
    "\n",
    "logistic regression (fastest) and random forests (most accurate usually). There are others, such as support vector machines, boosted decision trees,\n",
    "3-layer neural networks, but these don't offer as good accuracy as random forests (and often slower as \n",
    "well) or as much speed as logistic regression. In my opinion, the best choice would simply be"
   ]
  }
 ],
 "metadata": {
  "kernelspec": {
   "display_name": "Python 3",
   "language": "python",
   "name": "python3"
  },
  "language_info": {
   "codemirror_mode": {
    "name": "ipython",
    "version": 3
   },
   "file_extension": ".py",
   "mimetype": "text/x-python",
   "name": "python",
   "nbconvert_exporter": "python",
   "pygments_lexer": "ipython3",
   "version": "3.5.1"
  }
 },
 "nbformat": 4,
 "nbformat_minor": 0
}
