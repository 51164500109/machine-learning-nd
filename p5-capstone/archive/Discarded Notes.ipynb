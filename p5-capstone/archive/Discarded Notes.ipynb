{
 "cells": [
  {
   "cell_type": "markdown",
   "metadata": {},
   "source": [
    "(1) Engineer dataset semi from scratch \n",
    "\n",
    "New questions:\n",
    "(1) Interesting: How will you predict multiple things. Went to http://scikit-learn.org/stable/modules/multiclass.html."
   ]
  },
  {
   "cell_type": "markdown",
   "metadata": {},
   "source": [
    "# Discarded Notes\n",
    "\n",
    "The conversations online talk about how rubbish algorithms like KNN are when KNN was the example using in the ML for Trading class.\n",
    "\n",
    "'Unless you model the **Implied Volatility** of the stock, you cannot predict price. The stock price is function a various factors which are mostly known except the Implied volatility. You can model the implied vol using algorithms like **SVM** but not KNN.'[Source: Anoop Vasant Kumar](https://www.quora.com/How-effective-is-the-k-Nearest-Neighbor-algorithm-for-stock-price-prediction).\n",
    "\n",
    "THe class also discusses **Reinforcement Learning**, but since your actions don't change the environment...I guess you can model your rewards to be the amount of profit you make. And then it would kind of make sense.\n",
    "\n",
    "\n",
    "'The only machine-learning algorithms that I have found to actually work in trading are linear algorithms such as various incarnations of regressions. Everything else tend to overfit to noise. Remember, unlike in fields such as image or speech recognition, financial time series has very low signal-to-noise ratio, and more problematically, probability distributions in finance are often non-stationary. You can read more about this subject in my book Quantitative Trading.' [Source: Ernest Chan, author of Algorithmic Trading](https://www.quora.com/How-can-I-get-started-applying-machine-learning-to-algorithmic-trading).\n",
    "\n",
    "- Logistic Regression\n",
    "- Random Forests (DTs)\n",
    "\n",
    "\n",
    "logistic regression (fastest) and random forests (most accurate usually). There are others, such as support vector machines, boosted decision trees,\n",
    "3-layer neural networks, but these don't offer as good accuracy as random forests (and often slower as \n",
    "well) or as much speed as logistic regression. In my opinion, the best choice would simply be"
   ]
  },
  {
   "cell_type": "markdown",
   "metadata": {},
   "source": [
    "FTSE figures\n",
    "\n",
    "\n",
    "7d\n",
    "Mean daily error:  [1.5184268057845014, 2.2215656688134744, 2.7330139530667314, 3.1790905154664935, 3.5454918293235806, 3.8569998349796148, 4.1624413332682346]\n",
    "\n",
    "10d\n",
    "Mean daily error:  [1.5306776509003057, 2.2298791354555303, 2.7432372747440339, 3.1872661210768669, 3.5736081411533376, 3.9102527805700995, 4.2356347997498514]"
   ]
  },
  {
   "cell_type": "markdown",
   "metadata": {},
   "source": [
    "\"<table>\n",
    "    <th>Day to predict</th><th>7d (no FTSE)</th><th>7d (FTSE)</th><th>10d (no FTSE)</th><th>10d (FTSE)</th>\n",
    "<tr><td>1</td><td>1.669</td><td>\"array1[0]</td><td>1.732</td><td>1.751</td></tr>\n",
    "<tr><td>2</td><td>2.422</td><td>\"array1[0]</td><td>2.543</td><td>2.467</td></tr>\n",
    "<tr><td>3</td><td>2.968</td><td>\"2.938\"</td><td>3.138</td><td>2.978</td></tr>\n",
    "<tr><td>4</td><td>3.407</td><td>\"3.424\"</td><td>3.579</td><td>3.479</td></tr>\n",
    "<tr><td>5</td><td>3.834</td><td>\"3.881\"</td><td>3.939</td><td>3.946</td></tr>\n",
    "<tr><td>6</td><td>4.230</td><td>\"4.294\"</td><td>4.269</td><td>4.368</td></tr>\n",
    "<tr><td>7</td><td>4.590</td><td>\"4.702\"</td><td>4.543</td><td>4.816</td></tr>\n",
    "</table>\n",
    "\n",
    "\n",
    "Mean daily error:  [1.5184268057845014, 2.2215656688134744, 2.7330139530667314, 3.1790905154664935, 3.5454918293235806, 3.8569998349796148, 4.1624413332682346]"
   ]
  },
  {
   "cell_type": "markdown",
   "metadata": {},
   "source": [
    "### Refinement 2.1\n",
    "\n",
    "#### TODO: DELETE THIS AFTER USING FOR PLOT\n",
    "7d:\n",
    "1.669\n",
    "2.422\n",
    "2.968\n",
    "3.407\n",
    "3.834\n",
    "4.230\n",
    "4.590\n",
    "\n",
    "\n",
    "10d\n",
    "Mean daily error:  [1.7321477061307597, 2.5432152188018913, 3.1383346165356416, 3.5793927574194155, 3.9394427230724309, 4.2692644737508925, 4.5432050435026108]\n",
    "\n",
    "14 days:\n",
    "Mean daily error:  [1.7285404855953252, 2.5255007498628097, 3.1026280963920607, 3.5862999911658147, 4.0020669863612239, 4.3722863441980762, 4.701971393685997]\n",
    "\n",
    "21 days:\n",
    "Mean daily error:  [1.7458324393865607, 2.5550697635040556, 3.1130306876040765, 3.5859111257648624, 3.9906346379964006, 4.3416348748811986, 4.6578080578960108]\n",
    "\n",
    "30 days:\n",
    "Mean daily error:  [1.7839163888017815, 2.593162562286222, 3.1521417303676622, 3.6325948299484372, 4.0479378120671301, 4.3916975345657692, 4.7046907424412074]\n",
    "\n",
    "100 days:\n",
    "Mean daily error:  [1.9238550915564432, 2.7676076433106056, 3.3695076303415705, 3.8902423145616098, 4.3550552824867319, 4.7687380251335467, 5.1629268283684322]"
   ]
  },
  {
   "cell_type": "markdown",
   "metadata": {},
   "source": [
    "### Visualisation 2: Plotting error for each day compared with percentage variation\n",
    "\n",
    "This graph visualises the 7th-day predictions compared with day-on-day percentage variation. The purpose is to see if predictions are less accurte when day-on-day percentage variation is greater.\n"
   ]
  },
  {
   "cell_type": "markdown",
   "metadata": {},
   "source": [
    "#### CUT: 2.1.2 X-day running averages (Cut down the number of features but try to provide the same information)\n"
   ]
  },
  {
   "cell_type": "markdown",
   "metadata": {},
   "source": [
    "#### Interesting but not important:\n",
    "\n",
    "For example, in May 2010 the US S&P 500 dropped 5-6% in value within minutes. This was suspected to be because of bots. This was called the Flash Crash. [People have theorised](https://en.wikipedia.org/wiki/2010_Flash_Crash#Early_theories) that the Flash Crash was exacerbated by high-frequency traders, although this seems to have been disproved. \n"
   ]
  },
  {
   "cell_type": "markdown",
   "metadata": {},
   "source": [
    "### Benchmark for Trading Performance\n",
    "\n",
    "This benchmark is for trade recommendations.\n",
    "\n",
    "The standard benchmark in trading is buying and holding an index fund, which in this case could be the FTSE100, the FTSE250 or the FTSE500.\n",
    "\n",
    "I will use **buying and holding the FTSE100 as the benchmark** in this project. The FTSE100 (the Financial Times Stock Exchange 100 Index) is a share index of the 100 companies listed on the London Stock Exchange with the highest market capitalisation (market cap). Market cap = number of shares x price of each share. ([Source: Wikipedia](https://en.wikipedia.org/wiki/FTSE_100_Index)).\n",
    "\n",
    "**Specific methodology** Specifically, I will compare the performance of the trade recommendation (percentage gain of e.g. buying on the open (opening prirce) the first day and selling on the close of the day the model recommends to sell) to the percentage gain obtained by buying the FTSE100 on the open of the first day after the training date range and selling on the day the model recommends to sell. This **normalises the amount of capital available and the timeframe** in which the user has access to that capital."
   ]
  },
  {
   "cell_type": "markdown",
   "metadata": {},
   "source": [
    "Wrong?\n",
    "\n",
    "```I expect the solution to correlate with other stocks in the same industry to some extent. Competitors should correlate with each other when there is industry-positive or industry-negative information, and not correlate positively with each other when there is firm-specific information.\n",
    "\n",
    "I expect it to correlate with but be more volatile than the FTSE indices.```"
   ]
  }
 ],
 "metadata": {
  "kernelspec": {
   "display_name": "Python 3",
   "language": "python",
   "name": "python3"
  },
  "language_info": {
   "codemirror_mode": {
    "name": "ipython",
    "version": 3
   },
   "file_extension": ".py",
   "mimetype": "text/x-python",
   "name": "python",
   "nbconvert_exporter": "python",
   "pygments_lexer": "ipython3",
   "version": "3.5.1"
  }
 },
 "nbformat": 4,
 "nbformat_minor": 0
}
