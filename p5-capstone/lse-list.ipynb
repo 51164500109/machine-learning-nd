{
 "cells": [
  {
   "cell_type": "markdown",
   "metadata": {},
   "source": [
    "# LSE list"
   ]
  },
  {
   "cell_type": "markdown",
   "metadata": {},
   "source": [
    "### For (1) Finding the stocks that are relevant to BP and (2) Finding out more about BP"
   ]
  },
  {
   "cell_type": "markdown",
   "metadata": {},
   "source": [
    "#### Contextual Information\n",
    "I also supplemented this information with a **list of Companies and Securities from the London Stock Exchange** (spreadsheet `list-of-all-securites-ex-debt` from [this page](http://www.londonstockexchange.com/statistics/companies-and-issuers/companies-and-issuers.htm). The spreadsheet includes the following attributes for all securities (excluding debt) that were listed on the LSE as of the end of August 2016:\n",
    "* Security Start Date, \n",
    "* Company Name, \n",
    "* Country of Incorporation, \n",
    "* LSE Market\t(UK Main Market, International Main Market, AIM (Alternative Investment Market)...), \n",
    "* FCA Listing Category (Standard Shares, Standard Debt...) (FCA stands for Financial Conduct Authority), \n",
    "* ISIN (International Securities Identification Number), \n",
    "* Security Name (code, e.g. PELS'90' 20/11/17(WORLD BASKET P/WT)GBP1 for Barclays Bank PLC),\n",
    "* TIDM (stock symbol: Tradable Instrument Display Mnemonic), \n",
    "* Mkt Cap £m, \t\n",
    "* Shares in Issue, \n",
    "* Industry, \n",
    "* Supersector, \n",
    "* Sector, \n",
    "* Subsector, \n",
    "* Group (a number, e.g. 8355 for banks), \n",
    "* MarketSegmentCode, \n",
    "* MarketSectorCode, and \n",
    "* Trading Currency (GBX, USD, EUR).\n",
    "\n",
    "Not every column of every row of this spreadsheet is filled. There are some blank cells.\n",
    "\n",
    "I converted the spreadsheet to a CSV and imported it below:"
   ]
  },
  {
   "cell_type": "code",
   "execution_count": null,
   "metadata": {
    "collapsed": true
   },
   "outputs": [],
   "source": [
    "import pandas as pd"
   ]
  },
  {
   "cell_type": "code",
   "execution_count": null,
   "metadata": {
    "collapsed": true
   },
   "outputs": [],
   "source": [
    "lse_list = pd.read_csv(\"list-of-all-securities-ex-debt.csv\")\n",
    "# Delete extra columns of NaNs\n",
    "for i in range(18,36):\n",
    "    del lse_list['Unnamed: %s' % str(i)]\n",
    "lse_list.head()"
   ]
  },
  {
   "cell_type": "code",
   "execution_count": null,
   "metadata": {
    "collapsed": true
   },
   "outputs": [],
   "source": [
    "lse_list[368:371]"
   ]
  },
  {
   "cell_type": "markdown",
   "metadata": {},
   "source": [
    "And let's look at all the stocks that are in that group:"
   ]
  },
  {
   "cell_type": "code",
   "execution_count": null,
   "metadata": {
    "collapsed": true
   },
   "outputs": [],
   "source": [
    "print(\"Number of companies: \", len(lse_list[lse_list['Group'] == 537]))\n",
    "lse_list[lse_list['Group'] == 537]"
   ]
  },
  {
   "cell_type": "code",
   "execution_count": null,
   "metadata": {
    "collapsed": true
   },
   "outputs": [],
   "source": [
    "# Print only company names\n",
    "lse_list[lse_list['Group'] == 537]['Company Name'].unique()"
   ]
  },
  {
   "cell_type": "code",
   "execution_count": null,
   "metadata": {
    "collapsed": true
   },
   "outputs": [],
   "source": [
    "companies = df['Symbol'].unique()\n",
    "companies"
   ]
  },
  {
   "cell_type": "markdown",
   "metadata": {},
   "source": [
    "OMG do I have to compile the freaking FTSE100 myself??"
   ]
  }
 ],
 "metadata": {
  "kernelspec": {
   "display_name": "Python 3",
   "language": "python",
   "name": "python3"
  },
  "language_info": {
   "codemirror_mode": {
    "name": "ipython",
    "version": 3
   },
   "file_extension": ".py",
   "mimetype": "text/x-python",
   "name": "python",
   "nbconvert_exporter": "python",
   "pygments_lexer": "ipython3",
   "version": "3.5.1"
  }
 },
 "nbformat": 4,
 "nbformat_minor": 0
}
