{
 "cells": [
  {
   "cell_type": "markdown",
   "metadata": {},
   "source": [
    "# Computational Investment\n",
    "\n",
    "Types of funds:\n",
    "<table>\n",
    "</table>\n",
    "\n",
    "1. ETFs (Exchange Traded Funds)\n",
    "    - Like stocks: Buy or sell ETFs like stocks on a stock exchange.\n",
    "    - Represent baskets of stocks (or other instruments). They publish what they're holding.\n",
    "    - 4 or 3 - letter abbreviations (e.g. DSUM, SPLV)\n",
    "    - Transparent and liquid.\n",
    "    - Portfolio Managers compensated by Expense Ratio, a percentage e.g. 0.01% (1 bip) to 1.00% (unusual) of AUM.\n",
    "2. Mutual Funds\n",
    "    - Declared goal e.g. tracking the S&P 500.\n",
    "    - Buy or sell at the end of the day only.\n",
    "    - Disclose what they're holding once every quarter.\n",
    "    - 5-letter abbreviations (VTINX, FAGIX)\n",
    "    - Less but still somewhat transparent.\n",
    "    - Compensated by Expense Ratio 0.5% - 3.00% of AUM. Because management requires more 'skill'. Fund managers have more discretion as to what the fund comprises.\n",
    "3. Hedge Funds\n",
    "    - Buy or sell shares by agreement (the terms of which you're not allowed to reveal publicly). Often have minimum holding time, might not be allowed to withdraw all investment in one go.\n",
    "    - No disclosure (disclosure not required even to investors in hedge funds).\n",
    "    - Usually have no more than 100 investors.\n",
    "    - Not transparent.\n",
    "    - Compensated by 'Two and Twenty': 2% of AUM and 20% of the profits. Contains a component related to profits whereas ETFs and Mutual Funds don't. BUT now rates are usually much lower, e.g. One and Ten. SAC Capital charges Four and Forty. \n",
    "        - 2% of AUM could be initial amount or final amount (including P&L), depends on the hedge fund.\n",
    "\n",
    "**Liquid**: The ease with which one can buy or sell shares in a particular holding. (Higher liquidity -> higher ease.) Stocks and ETFs are liquid. \n",
    "**Large cap**: Cap = capitalisation, i.e. how much is the company worth according to # shares * price of stock? Apple has a capitalisation of hundreds of billions of dollars -> it is a large cap stock.\n",
    "Note: the price of a stock alone doesn't indicate the value of a company.\n",
    "\n",
    "Quiz: What type of fund is it?\n",
    "\n",
    "Incentives: How are the managers of these funds compensated?\n",
    "\n",
    "**AUM Assets under management**: How much money is being managed by the fund.\n",
    "\n",
    "Incentives (comparative):\n",
    "- Expense Ratio:\n",
    "    - AUM accumulation\n",
    "- Two and Twenty:\n",
    "    - Profits\n",
    "    - Risk taking\n",
    "    \n",
    "### How funds attract investors    \n",
    "Assuming you want to be a hedge fund manager.\n",
    "Can only have up to around 100 investors, so want each investor to invest a significant amount.\n",
    "\n",
    "Who:\n",
    "1. Individuals (wealthy people)\n",
    "2. Institutions (e.g. large retirement funds, university foundations e.g. the Harvard Uni Foundation)\n",
    "3. Funds of funds.\n",
    "\n",
    "Why (would these people invest in your hedge fund):\n",
    "1. Track record (prefer good track record for at least 5 years)\n",
    "2. Simulation (backtest your strategy) + compelling tory describing that strategy\n",
    "3. Portfolio fit (E.g. if you're doing small cap growth stocks and they haven't got that part of their portfolio filled)\n",
    "\n",
    "### Hedge fund goals and metrics\n",
    "Potential investors will want to know these.\n",
    "Goals (types hedge funds typically go after):\n",
    "1. Beat a benchmark e.g. SP500 because you think you can select which out of SP500 will outperform and discard the bad ones. \n",
    "    - Can still attain goal if it goes down as long as the index is going down more.\n",
    "2. Absolute return\n",
    "    - Usually Long/Short. Objective to make slow gradual positive returns no matter what. They usually have lower returns than benchmark-beating funds, but when the market takes a big hit, they often don't.\n",
    "\n",
    "Metrics\n",
    "1. Cumulative return\n",
    "    - \n",
    "2. Volatility\n",
    "3. Risk / Reward\n"
   ]
  },
  {
   "cell_type": "code",
   "execution_count": null,
   "metadata": {
    "collapsed": true
   },
   "outputs": [],
   "source": [
    "\n"
   ]
  }
 ],
 "metadata": {
  "kernelspec": {
   "display_name": "Python 3",
   "language": "python",
   "name": "python3"
  },
  "language_info": {
   "codemirror_mode": {
    "name": "ipython",
    "version": 3
   },
   "file_extension": ".py",
   "mimetype": "text/x-python",
   "name": "python",
   "nbconvert_exporter": "python",
   "pygments_lexer": "ipython3",
   "version": "3.5.1"
  }
 },
 "nbformat": 4,
 "nbformat_minor": 0
}
