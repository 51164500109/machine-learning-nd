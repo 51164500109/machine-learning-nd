{
 "cells": [
  {
   "cell_type": "markdown",
   "metadata": {},
   "source": [
    "(1) Engineer dataset semi from scratch \n",
    "\n",
    "New questions:\n",
    "(1) Interesting: How will you predict multiple things. Went to http://scikit-learn.org/stable/modules/multiclass.html."
   ]
  },
  {
   "cell_type": "markdown",
   "metadata": {},
   "source": [
    "# II. Analysis\n",
    "_(approx. 2-4 pages)_\n",
    "\n",
    "## Data Exploration\n",
    "In this section, you will be expected to analyze the data you are using for the problem. This data can either be in the form of a dataset (or datasets), input data (or input files), or even an environment. The type of data should be thoroughly described and, if possible, have basic statistics and information presented (such as discussion of input features or defining characteristics about the input or environment). Any abnormalities or interesting qualities about the data that may need to be addressed have been identified (such as features that need to be transformed or the possibility of outliers). Questions to ask yourself when writing this section:\n",
    "- _If a dataset is present for this problem, have you thoroughly discussed certain features about the dataset? Has a data sample been provided to the reader?_\n",
    "- _If a dataset is present for this problem, are statistics about the dataset calculated and reported? Have any relevant results from this calculation been discussed?_\n",
    "- _If a dataset is **not** present for this problem, has discussion been made about the input space or input data for your problem?_\n",
    "- _Are there any abnormalities or characteristics about the input space or dataset that need to be addressed? (categorical variables, missing values, outliers, etc.)_"
   ]
  },
  {
   "cell_type": "markdown",
   "metadata": {},
   "source": [
    "### Description of Primary Dataset\n",
    "The primary dataset used is daily stock data for stocks on the London Stock Exchange (LSE). The date range for stock data varies depending on when the stock went public. The furthest date was in the year 1954. The most recent date in the dataset was 9 September 2016. The data was taken from Quandl's free access database.\n",
    "\n",
    "All the data is in one comma-separated value file (CSV), with each row being one datapoint. There are over 14 million datapoints in the dataset. \n",
    "\n",
    "Each row has 14 columns. That means we have 14 features for each stock on every trading day since the year when the stock was tradable (from 1954 onwards). Unless otherwise indicated, the column values are all floats.\n",
    "\n",
    "<table>\n",
    "<th>Column</th><th>Format or accuracy if float</th><th>Meaning</th>\n",
    "<tr><td>Stock symbol</td><td>string</td><td>How the stock is represented on the London Stock Exchange. E.g. GOOGLE's stock symbol is GOOGL.</td></tr>\n",
    "<tr><td>Date</td><td>YYYY-MM-DD</td><td></td></tr>\n",
    "<tr><td>Open</td><td>given to 2 decimal places (2 d.p.)</td><td>Price of stock when the market opened on that day in GBP £.</td></tr>\n",
    "<tr><td>High</td><td>2 d.p.</td><td>Maximum price of the stock during the trading day in GBP £.</td></tr>\n",
    "<tr><td>Low</td><td>2 d.p.</td><td>Minimum price of the stock during the trading day in GBP £.</td></tr>\n",
    "<tr><td>Close</td><td>2 d.p.</td><td>Price of stock when the market closed on that day in GBP £.</td></tr>\n",
    "<tr><td>Volume</td><td>1 d.p.</td><td>The number of shares of that stock traded on that day.</td></tr>\n",
    "<tr><td>Ex-Dividend</td><td>1 d.p.</td><td>The value of the declared or upcoming dividend that will belong to the seller of the stock share rather than the buyer. Dividend is profits distributed to shareholders. If the upcoming dividend will be given to the buyer, Ex-Dividend = 0.</td></tr>\n",
    "<tr><td>Split Ratio</td><td>1 d.p.</td><td>A company may choose to split their stock. E.g. a 2.0 (2:1) split ratio means shareholders get two new shares for every share they hold. This halves the price to preserve the market capitalisation (total value) of the company.</td></tr>\n",
    "<tr><td>Adjusted Open</td><td>6 d.p.</td><td>Adjusted opening price (price of stock when the market opened on that day). Adjusted prices are prices amended to include any distributions and corporate actions such as stock splits (splitting one stock into two which would halve the price), dividends (giving stockholders cash as a fraction of profits) that occurred at any time before the next day's open.</td></tr>\n",
    "<tr><td>Adjusted High</td><td>6 d.p.</td><td>See Adjusted Open and High.</td></tr>\n",
    "<tr><td>Adjusted Low</td><td>6 d.p.</td><td>See Adjusted Open and Low.</td></tr>\n",
    "<tr><td>Adjusted Close</td><td>6 d.p.</td><td>See Adjusted Open and Close.</td></tr>\n",
    "<tr><td>Adjusted Volume</td><td>1 d.p.</td><td>See Adjusted Open and  Volume.</td></tr>\n",
    "</table>\n",
    "\n",
    "Reference: [Definition of Ex-Dividend (Investopedia)](http://www.investopedia.com/terms/e/ex-dividend.asp)\n",
    "\n",
    "#### Data sample\n",
    "\n",
    "<table>\n",
    "<tr><th></th><th>Symbol</th><th>Date</th><th>Open</th><th>High</th><th>Low</th><th>Close</th><th>Volume</th><th>Ex-Dividend</th><th>Split Ratio</th><th>Adj. Open</th><th>Adj. High</th><th>Adj. Low</th><th>Adj. Close</th><th>Adj. Volume</th></tr>\n",
    "<tr><td>0</td><td>A</td><td>1999-11-18</td><td>45.50</td><td>50.00</td><td>40.00</td><td>44.00</td><td>44739900.0</td><td>0.0</td><td>1.0</td><td>43.471810</td><td>47.771219</td><td>38.216975</td><td>42.038673</td><td>44739900.0</td></tr>\n",
    "<tr><td>1</td><td>A</td><td>1999-11-19</td><td>42.94</td><td>43.00</td><td>39.81</td><td>40.38</td><td>10897100.0</td><td>0.0</td><td>1.0</td><td>41.025923</td><td>41.083249</td><td>38.035445</td><td>38.580037</td><td>10897100.0</td></tr>\n",
    "<tr><td>2</td><td>A</td><td>1999-11-22</td><td>41.31</td><td>44.00</td><td>40.06</td><td>44.00</td><td>4705200.0</td><td>0.0</td><td>1.0</td><td>39.468581</td><td>42.038673</td><td>38.274301</td><td>42.038673</td><td>4705200.0</td></tr>\n",
    "<tr><td>3</td><td>A</td><td>1999-11-23</td><td>42.50</td><td>43.63</td><td>40.25</td><td>40.25</td><td>4274400.0</td><td>0.0</td><td>1.0</td><td>40.605536</td><td>41.685166</td><td>38.455832</td><td>38.455832</td><td>4274400.0</td></tr>\n",
    "<tr><td>4</td><td>A</td><td>1999-11-24</td><td>40.13</td><td>41.94</td><td>40.00</td><td>41.06</td><td>3464400.0</td><td>0.0</td><td>1.0</td><td>38.341181</td><td>40.070499</td><td>38.216975</td><td>39.229725</td><td>3464400.0</td></tr>\n",
    "</table>\n",
    "*Obtained using `df.head()`*"
   ]
  },
  {
   "cell_type": "markdown",
   "metadata": {},
   "source": [
    "### Description of supplementary dataset (FTSE100)\n",
    "\n",
    "I wanted to add features that corresponded to the general market trend and thought the FTSE100 would be a good representation. The FTSE100 as a single index was not included in my primary dataset, so I obtained the data by scraping Google Finance with a python script (see `google-finance-scraper.py`).\n",
    "\n",
    "The supplementary dataset has Open, High, Low, Close data in the date range April 1, 1984 - September 9, 2016."
   ]
  },
  {
   "cell_type": "markdown",
   "metadata": {},
   "source": [
    "### Defining Characteristics about Stock Data\n",
    "1. Limit Down Circuit Breakers"
   ]
  },
  {
   "cell_type": "markdown",
   "metadata": {},
   "source": [
    "### Dataset Statistics \n",
    "\n",
    "The summary statistics for the dataset are not too meaningful, but it gives us an idea of the **variance within the dataset**. The standard deviation of the adjusted close price is of magnitude 10^3 ($1000), and the standard deviation of adjusted volume is of magnitude 10^6 (1,000,000 shares). \n",
    "\n",
    "The summary statistics suggest that the data is **positively skewed**. \n",
    "\n",
    "\n",
    "<table>\n",
    "<tr><th></th><th>Open</th><th>High</th><th>Low</th><th>Close</th><th>Volume</th><th>Ex-Dividend</th><th>Split Ratio</th><th>Adj. Open</th><th>Adj. High</th><th>Adj. Low</th><th>Adj. Close</th><th>Adj. Volume</th></tr>\n",
    "<tr><td>mean</td><td>7.092291e+01</td><td>7.188109e+01</td><td>7.047024e+01</td><td>7.120251e+01</td><td>1.182026e+06</td><td>1.982789e-03</td><td>1.000210e+00</td><td>7.518079e+01</td><td>7.633755e+01</td><td>7.451613e+01</td><td>7.544570e+01</td><td>1.402925e+06</td></tr>\n",
    "<tr><td>std</td><td>2.193723e+03</td><td>2.220224e+03</td><td>2.191789e+03</td><td>2.206792e+03</td><td>8.868551e+06</td><td>3.370723e-01</td><td>2.165061e-02</td><td>2.266636e+03</td><td>2.295340e+03</td><td>2.261718e+03</td><td>2.279264e+03</td><td>6.620816e+06</td></tr>\n",
    "<tr><td>min</td><td>0.000000e+00</td><td>0.000000e+00</td><td>0.000000e+00</td><td>0.000000e+00</td><td>0.000000e+00</td><td>0.000000e+00</td><td>1.000000e-02</td><td>0.000000e+00</td><td>0.000000e+00</td><td>0.000000e+00</td><td>0.000000e+00</td><td>0.000000e+00</td></tr>\n",
    "<tr><td>max</td><td>2.281800e+05</td><td>2.293740e+05</td><td>2.275300e+05</td><td>2.293000e+05</td><td>6.674913e+09</td><td>9.625000e+02</td><td>5.000000e+01</td><td>2.281800e+05</td><td>2.293740e+05</td><td>2.275300e+05</td><td>2.293000e+05</td><td>2.304019e+09</td></tr>\n",
    "</table>\n",
    "\n",
    "I have checked the count is constant across all columns, i.e. that there are no missing values.\n",
    "\n",
    "### Interesting observations: Abnormalities in dataset\n",
    "The minimum Open, High, Low and Close are all zero. If a stock trades at a price of zero, it kind of doesn't exist."
   ]
  },
  {
   "cell_type": "markdown",
   "metadata": {},
   "source": [
    "### BP Statistics\n",
    "\n",
    "More meaningful than the summary statistics for all 3,000+ stocks is the summary statistics for one stock. Since one of the stocks we are hoping to predict is that of BP (British Petroleum), let's examine the corresponding summary statistics.\n",
    "\n",
    "<table>\n",
    "<tr><th></th><th>Open</th><th>High</th><th>Low</th><th>Close</th><th>Volume</th><th>Ex-Dividend</th><th>Split Ratio</th><th>Adj. Open</th><th>Adj. High</th><th>Adj. Low</th><th>Adj. Close</th><th>Adj. Volume</th><th>Daily Variation</th></tr>\n",
    "<tr><td>mean</td><td>59.428433</td><td>59.908222</td><td>58.943809</td><td>59.446137</td><td>2.816082e+06</td><td>0.004626</td><td>1.000400</td><td>18.705367</td><td>18.855246</td><td>18.547576</td><td>18.707358</td><td>3.408274e+06</td><td>0.0</td></tr>\n",
    "<tr><td>std</td><td>20.589378</td><td>20.676885</td><td>20.513272</td><td>20.598500</td><td>7.217241e+06</td><td>0.048270</td><td>0.019987</td><td>14.127674</td><td>14.228791</td><td>14.011973</td><td>14.122609</td><td>7.532096e+06</td><td>0.0</td></tr>\n",
    "<tr><td>min</td><td>27.250000</td><td>27.850000</td><td>26.500000</td><td>27.020000</td><td>0.000000e+00</td><td>0.000000</td><td>1.000000</td><td>1.522366</td><td>1.528872</td><td>1.503109</td><td>1.522366</td><td>0.000000e+00</td><td>0.0</td></tr>\n",
    "<tr><td>25%</td><td>44.750000</td><td>45.162500</td><td>44.250000</td><td>44.770000</td><td>1.831500e+05</td><td>0.000000</td><td>1.000000</td><td>5.426399</td><td>5.493816</td><td>5.373302</td><td>5.442764</td><td>7.536000e+05</td><td>0.0</td></tr>\n",
    "<tr><td>50%</td><td>53.940000</td><td>54.360000</td><td>53.500000</td><td>53.940000</td><td>6.371500e+05</td><td>0.000000</td><td>1.000000</td><td>15.077767</td><td>15.165769</td><td>15.033179</td><td>15.099474</td><td>1.904100e+06</td><td>0.0</td></tr>\n",
    "<tr><td>75%</td><td>69.750000</td><td>70.230000</td><td>69.327500</td><td>69.795000</td><td>3.784475e+06</td><td>0.000000</td><td>1.000000</td><td>31.849522</td><td>32.207689</td><td>31.524772</td><td>31.889513</td><td>4.051675e+06</td><td>0.0</td></tr>\n",
    "<tr><td>max</td><td>147.120000</td><td>147.380000</td><td>146.380000</td><td>146.500000</td><td>2.408085e+08</td><td>0.840000</td><td>2.000000</td><td>50.669004</td><td>50.988683</td><td>50.039144</td><td>50.533702</td><td>2.408085e+08</td><td>0.0</td></tr>\n",
    "</table>\n",
    "\n",
    "I have checked the count is 10010 across all columns, i.e. that there are no missing values.\n",
    "\n",
    "This is much better understood with a visualisation of the BP data."
   ]
  },
  {
   "cell_type": "markdown",
   "metadata": {},
   "source": [
    "## Exploratory Visualisation\n",
    "\n",
    "### Open and Adjusted Open Prices\n",
    "Let's first get an idea of the open and adjusted open prices. This is equivalent to visualising the the close and adjusted close prices - the variable we want to predict - shifted by one day.\n",
    "\n",
    "<img src=\"images/bp-open-prices.png\" />\n",
    "<img src=\"images/bp-adj-open-prices.png\" />\n",
    "\n",
    "*Prices are in GBP £.*\n",
    "\n",
    "#### Observations\n",
    "1. **Adjusted vs non-adjusted figures** It is extraordinary: the adjusted open and the open are radically different for BP, whereas with stock 'A' in the first few rows of the df, Adj. Open and Open had similar values. This makes sense because some stocks that have few corporate actions e.g. stocks that don't have stock splits or give out dividends will require little value adjustment.\n",
    "    - Since we are predicting the Adjusted Close, my guess is that the Adjusted figures (Open, High, Low, Volume) will be more useful in predicting the adjusted price. The non-adjusted figures (specifically Volume) may still useful in predicting momentum.\n",
    "\n",
    "2. **Trend** The non-adjusted prices do not show an upward trend. The adjusted open prices show somewhat of an upward trend but it has been too volatile in recent years to draw any conclusions.\n",
    "\n",
    "3. **Volatility** The stock price looks volatile, which is expected for an oil stock. From the descriptive statistics, the mean daily percentage variation is 1.72% and the maximum daily percentage variation is 16.0%."
   ]
  },
  {
   "cell_type": "markdown",
   "metadata": {},
   "source": [
    "### Volatility: Percentage Variation\n",
    "\n",
    "To examine the volatility of BP stock, I constructed the features Percentage Variation and Adj. Percentage Variation, where\n",
    "\n",
    "`Percentage Variation = (High - Low)/Open * 100`.\n",
    "\n",
    "<img src=\"images/bp-percentage-variation.png\" />\n",
    "<img src=\"images/bp-adj-percentage-variation.png\" />\n",
    "\n",
    "#### Observations\n",
    "The Adjusted Percentage Variation and Percentage Variation look similar. There does not seem to be marked trends. It is of note that the stocks are consistently volatile with typical percentage variation of 0-4% in recent years, punctuated with spikes of extremely volatile periods of up to 16% variation."
   ]
  },
  {
   "cell_type": "markdown",
   "metadata": {},
   "source": [
    "### Algorithms and Techniques\n",
    "In this section, you will need to discuss the algorithms and techniques you intend to use for solving the problem. You should justify the use of each one based on the characteristics of the problem and the problem domain. Questions to ask yourself when writing this section:\n",
    "- _Are the algorithms you will use, including any default variables/parameters in the project clearly defined?_\n",
    "- _Are the techniques to be used thoroughly discussed and justified?_\n",
    "- _Is it made clear how the input data or datasets will be handled by the algorithms and techniques chosen?_\n",
    "\n",
    "### Benchmark\n",
    "In this section, you will need to provide a clearly defined benchmark result or threshold for comparing across performances obtained by your solution. The reasoning behind the benchmark (in the case where it is not an established result) should be discussed. Questions to ask yourself when writing this section:\n",
    "- _Has some result or value been provided that acts as a benchmark for measuring performance?_\n",
    "- _Is it clear how this result or value was obtained (whether by data or by hypothesis)?_"
   ]
  },
  {
   "cell_type": "markdown",
   "metadata": {},
   "source": [
    "## III. Methodology\n",
    "_(approx. 3-5 pages)_\n",
    "\n",
    "### Data Preprocessing\n",
    "In this section, all of your preprocessing steps will need to be clearly documented, if any were necessary. From the previous section, any of the abnormalities or characteristics that you identified about the dataset will be addressed and corrected here. Questions to ask yourself when writing this section:\n",
    "- _If the algorithms chosen require preprocessing steps like feature selection or feature transformations, have they been properly documented?_\n",
    "- _Based on the **Data Exploration** section, if there were abnormalities or characteristics that needed to be addressed, have they been properly corrected?_\n",
    "- _If no preprocessing is needed, has it been made clear why?_\n",
    "\n",
    "### Implementation\n",
    "In this section, the process for which metrics, algorithms, and techniques that you implemented for the given data will need to be clearly documented. It should be abundantly clear how the implementation was carried out, and discussion should be made regarding any complications that occurred during this process. Questions to ask yourself when writing this section:\n",
    "- _Is it made clear how the algorithms and techniques were implemented with the given datasets or input data?_\n",
    "- _Were there any complications with the original metrics or techniques that required changing prior to acquiring a solution?_\n",
    "- _Was there any part of the coding process (e.g., writing complicated functions) that should be documented?_\n",
    "\n",
    "### Refinement\n",
    "In this section, you will need to discuss the process of improvement you made upon the algorithms and techniques you used in your implementation. For example, adjusting parameters for certain models to acquire improved solutions would fall under the refinement category. Your initial and final solutions should be reported, as well as any significant intermediate results as necessary. Questions to ask yourself when writing this section:\n",
    "- _Has an initial solution been found and clearly reported?_\n",
    "- _Is the process of improvement clearly documented, such as what techniques were used?_\n",
    "- _Are intermediate and final solutions clearly reported as the process is improved?_"
   ]
  },
  {
   "cell_type": "markdown",
   "metadata": {},
   "source": [
    "\n",
    "**Data Preprocessing**\n",
    "On opening the CSV and sampling it with `df.head()`, I realised the CSV had no header. I added a header to the CSV:\n",
    "```python\n",
    "df = pd.read_csv('~/lse-data/lse/WIKI_20160909.csv', header=None, names=header_names)\n",
    "```"
   ]
  },
  {
   "cell_type": "markdown",
   "metadata": {},
   "source": [
    "## IV. Results\n",
    "_(approx. 2-3 pages)_\n",
    "\n",
    "### Model Evaluation and Validation\n",
    "In this section, the final model and any supporting qualities should be evaluated in detail. It should be clear how the final model was derived and why this model was chosen. In addition, some type of analysis should be used to validate the robustness of this model and its solution, such as manipulating the input data or environment to see how the model’s solution is affected (this is called sensitivity analysis). Questions to ask yourself when writing this section:\n",
    "- _Is the final model reasonable and aligning with solution expectations? Are the final parameters of the model appropriate?_\n",
    "- _Has the final model been tested with various inputs to evaluate whether the model generalizes well to unseen data?_\n",
    "- _Is the model robust enough for the problem? Do small perturbations (changes) in training data or the input space greatly affect the results?_\n",
    "- _Can results found from the model be trusted?_\n",
    "\n",
    "### Justification\n",
    "In this section, your model’s final solution and its results should be compared to the benchmark you established earlier in the project using some type of statistical analysis. You should also justify whether these results and the solution are significant enough to have solved the problem posed in the project. Questions to ask yourself when writing this section:\n",
    "- _Are the final results found stronger than the benchmark result reported earlier?_\n",
    "- _Have you thoroughly analyzed and discussed the final solution?_\n",
    "- _Is the final solution significant enough to have solved the problem?_"
   ]
  }
 ],
 "metadata": {
  "kernelspec": {
   "display_name": "Python 3",
   "language": "python",
   "name": "python3"
  },
  "language_info": {
   "codemirror_mode": {
    "name": "ipython",
    "version": 3
   },
   "file_extension": ".py",
   "mimetype": "text/x-python",
   "name": "python",
   "nbconvert_exporter": "python",
   "pygments_lexer": "ipython3",
   "version": "3.5.1"
  }
 },
 "nbformat": 4,
 "nbformat_minor": 0
}
