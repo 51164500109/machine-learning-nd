{
 "cells": [
  {
   "cell_type": "markdown",
   "metadata": {},
   "source": [
    "## I. Definition\n",
    "_(approx. 1-2 pages)_"
   ]
  },
  {
   "cell_type": "markdown",
   "metadata": {},
   "source": [
    "# Project Overview\n",
    "\n",
    "### Introduction\n",
    "People have used machine learning in trading for decades. Hedge funds, high-frequency trading shops and sole traders use all sorts of strategies, from Bayesian statistics to physics related strategies.\n",
    "\n",
    "### Scope of this project\n",
    "We will investigate **using machine learning in trading equities**, specifically to **predict equity prices for a 7-day period**. Equities are stocks - shares of companies like Apple and Google that are publically listed on the stock exchange. That means any licensed stock broker can trade those stocks. By trading, we mean buying and selling these shares on the stock exchange.\n",
    "\n",
    "We will only tackle trading equities and not other more complex financial products because calculating returns for those products is more complex and equities are sufficiently interesting.\n",
    "\n",
    "### Why trading is an interesting domain for machine learning\n",
    "1. Firstly, there are many non-engineered features. If we include only equities, we already have over 10,000 equities globally. That makes for at least 10,000 potential non-engineered features. \n",
    "\n",
    "2. Secondly, there are many datapoints. Even access to only daily trading information gives us 30 years * 365 days = over 10,000 datapoints for each of many stocks. (This is only an estimate because trading does not take place on Sundays in all non-Israeli exchanges.) If we were to look at intraday figures, there's even more data: in January 2009, an average of 881,609 trades were made per day in equities on the London Stock Exchange [(Source: LSE Group)](http://www.lseg.com/media-centre/news/corporate-press-releases/185-million-electronic-equity-trades-across-london-stock-exchange-group-order-books-january).\n",
    "\n",
    "3. It is also interesting because research in machine learning and statistics has affected how markets behave. There is no strategy or algorithm that will solve this problem or remain forever 'optimal' - if a profitable strategy is found, it may be copied by other people and so be priced in or it may be fought against or taken advantage of. This is more relevant to high-frequency trading than daily trading but nonetheless has an impact. \n",
    "\n",
    "### Aim of this project\n",
    "\n",
    "The aim of this exploratory study is to get a feel for what types of features are involved in predicting stock prices and how different models perform in this setting. The challenges will be discussed in more detail in the Problem Statement.\n",
    "\n",
    "Predicting stock prices accurately is difficult: there are many factors that influence stock prices and a lot of noise.\n",
    "\n",
    "This exploratory study does not aim to produce a state-of-the-art, better-than-benchmark-buy-and-hold (transaction costs included) trading strategy - that is extremely difficult and is a challenge even for top trading firms. \n",
    "\n",
    "### Data used in this project\n",
    "\n",
    "There is one primary dataset for this project and two supplementary datasets.\n",
    "\n",
    "* The primary dataset is a CSV with all the daily stock prices from 1977 for stocks listed on the the London Stock Exchange. This dataset was downloaded from Quandl. \n",
    "* The first supplementary dataset is a spreadsheet listing the stocks currently listed on the London Stock Exchange with information such as what each listed company's stock symbol is and which sector they belong to. This spreadsheet was downloaded from the London Stock Exchange website.\n",
    "* The second supplementary dataset is a CSV with Open, High, Low, and Close data for the FTSE100 from April 1, 1984 to Sept 9, 2016. This data was scraped from Google Finance and is used for feature engineering.\n",
    "\n",
    "The features and characteristics of the primary dataset will be discussed more thoroughly in Section II: Data Exploration."
   ]
  },
  {
   "cell_type": "markdown",
   "metadata": {},
   "source": [
    "\n",
    "# Problem Statement\n",
    "\n",
    "### Problem\n",
    "\n",
    "Build a stock price predictor that satifies:\n",
    "<table>\n",
    "<th>Category</th><th>Details</th>\n",
    "<tr><td>Input</td><td>Daily trade data over a `start_date - end_date`. Daily trade data consists of adjusted and unadjusted Open, High, Low, Close figures for a set of stocks S.</td></tr>\n",
    "<tr><td>Output</td><td><ul><li>Projected estimates of Adjusted Close prices for query dates for pre-chosen stock BP in S.</li><li>Results satisfy predicted stock value 7 days out is within +/- 5% of actual value, on average.</li></td></tr>\n",
    "<tr><td>Optional Output</td><td>Suggested trades</td></tr>\n",
    "</table>\n",
    "\n",
    "Glossary:\n",
    "* **Adjusted prices** are prices amended to include any distributions and corporate actions such as stock splits (splitting one stock into two which would halve the price), dividends (giving stockholders cash as a fraction of profits) that occurred at any time before the next day's open.\n",
    "* **BP** is the stock symbol for British Petroleum, an energy company.\n",
    "\n",
    "### Interesting characteristics of this problem\n",
    "There are a few interesting characteristics of this problem compared to previous projects in the Machine Learning Engineer Nanodegree.\n",
    "\n",
    "1. Predicting multiple outputs: We will predict the adjusted close prices for 7 days after the last input date.\n",
    "\n",
    "### Challenges\n",
    "1. The model has to be run for dates not within the training set for the model to be 'fair'. But given there may be big shifts in how people view the markets from year to year, it may be hard for the model to generalise from one year to the next.\n",
    "2. Energy companies' stock prices are volatile so they may be harder to predict.\n",
    "\n",
    "### Analysis of Problem\n",
    "\n",
    "This is a regression problem (as opposed to a classification problem) because we are predicting daily Adjusted Close prices for a stock. These prices are continuous.\n",
    "\n",
    "Compare this to a related problem: If this were high-frequency trading and we were trying to predict the stock price in the next nanosecond we could tackle price prediction as a binary classification problem instead (does the price go up or down?).\n",
    "\n",
    "It's not immediately obvious what kind of model will be best.\n",
    "\n",
    "Characteristic of problem: \n",
    "- Time-series data.\n",
    "- Noisy data\n",
    "- Datapoints (prices of different stocks) are not independent of each other -> Naive Bayes is not appropriate\n",
    "- Many features. (Daily open, high, low, adjusted close for many stocks) -> \n",
    "- Regression problem (continuous output).\n",
    "- Training cost or time: it is not critical to keep this lower than 12 hours because we are predicting daily prices based on stats from prior days' trading. \n",
    "- Prediction time: Again not critical to keep this low. Anything within an hour would do.\n",
    "\n",
    "### Strategy\n",
    "I intend to do the following:\n",
    "\n",
    "1. Explore the data\n",
    "- Come up with a basic model with which I can predict the next day's prices and then the next 7 days' prices as a benchmark\n",
    "- Try adding different features and using different algorithms\n",
    "    - Features include x-day moving averages of BP stocks, stocks in the oil industry, and indices such as the FTSE 100. \n",
    "- Assess which model is best using the metric described below.\n",
    "\n",
    "### Expected Solution\n",
    "\n",
    "The solution will be 7 predicted prices for each trading day within 7 trading days after the last date in the input date range. We will compare the 7 predicted prices with the actual adjusted close prices."
   ]
  },
  {
   "cell_type": "markdown",
   "metadata": {},
   "source": [
    "# Metrics\n",
    "\n",
    "We will measure performance as the **root mean squared percentage error** (difference between the stock's actual and predicted Adjusted Close prices). This represents the error between the actual price and the predicted price. \n",
    "\n",
    "Reasoning: We have to square it and then take the square root because if we don't square it, errors from overestimates and underestimates will cancel each other out.\n",
    "\n",
    "We will also consider **the range of root mean squared percentage error** as a secondary metric - we want a model with lower error variance because a series of small good trades (gaining \\$1 ten times) can be more than cancelled out by a single large-magnitude bad trade (losing \\$50 once).\n",
    "\n",
    "We will not consider transaction costs (you have to pay every time you trade and that will reduce profits)."
   ]
  }
 ],
 "metadata": {
  "kernelspec": {
   "display_name": "Python 3",
   "language": "python",
   "name": "python3"
  },
  "language_info": {
   "codemirror_mode": {
    "name": "ipython",
    "version": 3
   },
   "file_extension": ".py",
   "mimetype": "text/x-python",
   "name": "python",
   "nbconvert_exporter": "python",
   "pygments_lexer": "ipython3",
   "version": "3.5.1"
  }
 },
 "nbformat": 4,
 "nbformat_minor": 0
}
