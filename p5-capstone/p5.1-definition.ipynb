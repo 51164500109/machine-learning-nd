{
 "cells": [
  {
   "cell_type": "markdown",
   "metadata": {},
   "source": [
    "## I. Definition\n",
    "_(approx. 1-2 pages)_"
   ]
  },
  {
   "cell_type": "markdown",
   "metadata": {},
   "source": [
    "### Project Overview\n",
    "In this section, look to provide a high-level overview of the project in layman’s terms. Questions to ask yourself when writing this section:\n",
    "- _Has an overview of the project been provided, such as the problem domain, project origin, and related datasets or input data?_\n",
    "- _Has enough background information been given so that an uninformed reader would understand the problem domain and following problem statement?_"
   ]
  },
  {
   "cell_type": "markdown",
   "metadata": {},
   "source": [
    "### Problem Statement\n",
    "In this section, you will want to clearly define the problem that you are trying to solve, including the strategy (outline of tasks) you will use to achieve the desired solution. You should also thoroughly discuss what the intended solution will be for this problem. Questions to ask yourself when writing this section:\n",
    "- _Is the problem statement clearly defined? Will the reader understand what you are expecting to solve?_\n",
    "- _Have you thoroughly discussed how you will attempt to solve the problem?_\n",
    "- _Is an anticipated solution clearly defined? Will the reader understand what results you are looking for?_"
   ]
  },
  {
   "cell_type": "markdown",
   "metadata": {},
   "source": [
    "### Project Overview\n",
    "\n",
    "Trading. \n",
    "We are trying to predict daily stock prices of a certain stock s.\n",
    "\n",
    "People have used machine learning in trading for decades. People use all sorts of strategies. \n",
    "\n",
    "This is an interesting domain: \n",
    "Firstly, there are many non-engineered features. If we include only equities, we already have over 10,000 equities globally. That makes for at least 10,000 potential non-engineered features. \n",
    "\n",
    "Secondly, there are many datapoints. High-frequency trading firms trade . Even access to daily trading information gives us 30 years * 365 days = over 10,000 datapoints.\n",
    "\n",
    "It is also interesting because research in machine learning and statistics has affected how markets behave. There is no strategy or algorithm that will solve this problem or remain forever 'optimal' - if a profitable strategy is found, it may be copied by other people and so be priced in or it may be fought against or taken advantage of. This is more relevant to high-frequency trading than daily trading but nonetheless has an impact.\n",
    "\n",
    "This exploratory study is "
   ]
  },
  {
   "cell_type": "markdown",
   "metadata": {},
   "source": [
    "### Problem\n",
    "Build a stock price predictor with:\n",
    "\n",
    "* Input: daily trade data oveor a certain date range (Open, High, Low, Adjusted Close) for a set of stocks S.\n",
    "* Output: Projected estimates of Adjusted Close prices for query dates for pre-chosen stock(s) s_i in S.\n",
    "    * Define \n",
    "    * Results satisfy predicted stock value 7 days out is within +/- 5% of actual value, on average.\n",
    "* Optional Output: Suggested trades\n",
    "\n",
    "### Strategy\n",
    "\n",
    "This is a regression problem (as opposed to a classification problem) because we are predicting daily Adjusted Close prices for a stock. These prices are continuous.\n",
    "\n",
    "A related problem: If this were high-frequency trading and we were trying to predict the stock price in the next nanosecond we could tackle price prediction as a binary classificaiton problem (does the price go up or down?).\n",
    "\n",
    "It's not immediately obvious what kind of model will be best.\n",
    "\n",
    "Characteristic of problem: \n",
    "- Time-series data.\n",
    "- Noisy data\n",
    "- Datapoints (prices of different stocks) are not independent of each other -> Naive Bayes is not appropriate\n",
    "- Many features. (Daily open, high, low, adjusted close for many stocks)\n",
    "- Regression problem (continuous output).\n",
    "- Training cost or time: it is not critical to keep this lower than 12 hours because we are predicting daily prices based on stats from prior days' trading. \n",
    "- Prediction time: Again not critical to keep this low. Anything within an hour would do."
   ]
  },
  {
   "cell_type": "markdown",
   "metadata": {},
   "source": [
    "#### Expected Solution\n",
    "Expect it to correlate with other stocks in the same industry to some extent. Competitors should correlate with each other when there is industry-positive or industry-negative information, and not correlate positively with each other when there is firm-specific information.\n"
   ]
  },
  {
   "cell_type": "markdown",
   "metadata": {},
   "source": [
    "What are **Adjusted** figures?\n",
    "\n",
    "What is an 'Adjusted Closing Price'\n",
    "An adjusted closing price is a stock's closing price on any given day of trading that has been amended to include any distributions and corporate actions that occurred at any time prior to the next day's open. The adjusted closing price is often used when examining historical returns or performing a detailed analysis on historical returns.\n",
    "\n",
    "BREAKING DOWN 'Adjusted Closing Price'\n",
    "A stock's price is typically affected by supply and demand of market participants. However, there are some corporate actions that affect a stock's price, which needs to be adjusted in the event of these actions. The adjusted closing price is a useful tool when examining historical returns because it gives analysts an accurate representation of the firm's equity value beyond the simple market price. It accounts for all corporate actions such as stock splits, dividends/distributions and rights offerings. Investors should understand how corporate actions are accounted for in a stock's adjusted closing price.\n",
    "Adjusting Prices for Stock Splits\n",
    "A stock split is a corporate action that is usually done by companies to make their share prices more marketable. A stock split does not affect a company's total market capitalization, but it does affect the company's stock price. Consequently, a company undergoing a stock split must adjust its closing price to depict the effect of the corporate action.\n",
    "\n",
    "For example, a company's board of directors may decide to split the company's stock three-for-one. Therefore, the company's shares outstanding increase by a multiple of three, while its share price is divided by three. If a stock closed at $300 the day prior to its stock split, the closing price is adjusted to $100, or $300 divided by 3, per share to show the effect of the corporate action.\n",
    "\n",
    "Adjusting for Dividends\n",
    "Common distributions that affect a stock's price include cash dividends and stock dividends. The difference between cash dividends and stock dividends is shareholders are entitled to a predetermined price per share and additional shares, respectively. For example, assume a company declared a $1 cash dividend and is trading at $51 per share on the ex-dividend date. On the ex-dividend date, the stock price is reduced by $1 and the adjusted closing price is $50.\n",
    "\n",
    "Adjusting for Rights Offerings\n",
    "A stock's adjusted closing price also reflects rights offerings that may occur. A rights offering is an issue of rights given to existing shareholders, which entitles the shareholders to subscribe to the rights issue in proportion to their shares. For example assume a company declares a rights offering, in which existing shareholders are entitled to one additional share for every two shares owned. Assume the stock is trading at $50 and existing shareholders are able to purchase additional shares at a subscription price of $45. On the ex-date, the adjusted closing price is calculated based on the adjusting factor and the closing price.\n",
    "\n",
    "\n",
    "\n",
    "Read more: Adjusted Closing Price Definition | Investopedia U \n",
    "Follow us: Investopedia on Facebook\n",
    "\n",
    "Reference: [Investopedia](http://www.investopedia.com/terms/a/adjusted_closing_price.asp#ixzz4LOlpDX7)\n"
   ]
  },
  {
   "cell_type": "markdown",
   "metadata": {},
   "source": [
    "### Metrics\n",
    "In this section, you will need to clearly define the metrics or calculations you will use to measure performance of a model or result in your project. These calculations and metrics should be justified based on the characteristics of the problem and problem domain. Questions to ask yourself when writing this section:\n",
    "- _Are the metrics you’ve chosen to measure the performance of your models clearly discussed and defined?_\n",
    "- _Have you provided reasonable justification for the metrics chosen based on the problem and solution?_"
   ]
  },
  {
   "cell_type": "markdown",
   "metadata": {},
   "source": [
    "Metrics: \n",
    "* We will measure performance as the squared deviation between the stock's actual and predicted Adjusted Close prices."
   ]
  }
 ],
 "metadata": {
  "kernelspec": {
   "display_name": "Python 3",
   "language": "python",
   "name": "python3"
  },
  "language_info": {
   "codemirror_mode": {
    "name": "ipython",
    "version": 3
   },
   "file_extension": ".py",
   "mimetype": "text/x-python",
   "name": "python",
   "nbconvert_exporter": "python",
   "pygments_lexer": "ipython3",
   "version": "3.5.1"
  }
 },
 "nbformat": 4,
 "nbformat_minor": 0
}
