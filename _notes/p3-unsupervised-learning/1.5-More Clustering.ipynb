{
 "cells": [
  {
   "cell_type": "markdown",
   "metadata": {},
   "source": [
    "# Clustering\n",
    "\n",
    "Each algorithm is its own problem because there are many definitions of clustering.\n",
    "\n",
    "## Single Linkage Clustering\n",
    "- Consider each object a cluster (n objects)\n",
    "- Define intercluster distance as the distance between the closest two points in the two clusters\n",
    "- Merge two closest clusters\n",
    "- Repeat n-k times to make n clusters"
   ]
  }
 ],
 "metadata": {
  "anaconda-cloud": {},
  "kernelspec": {
   "display_name": "Python [python2.7]",
   "language": "python",
   "name": "Python [python2.7]"
  }
 },
 "nbformat": 4,
 "nbformat_minor": 0
}
